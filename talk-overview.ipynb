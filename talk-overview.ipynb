{
 "cells": [
  {
   "cell_type": "markdown",
   "metadata": {},
   "source": [
    "# Intro to Javascript for C# Developers"
   ]
  },
  {
   "cell_type": "code",
   "execution_count": null,
   "metadata": {
    "dotnet_interactive": {
     "language": "csharp"
    }
   },
   "outputs": [],
   "source": [
    "var myKnowledgeOfJavascript = new string[]{ \n",
    "    \"ECMAscript spec\",\n",
    "    \"Variables\",\n",
    "    \"let\",\n",
    "    \"const\",\n",
    "    \"Arrays\",\n",
    "    \"let of\",\n",
    "    \"map\",\n",
    "    \"filter\",\n",
    "    \"some\",\n",
    "    \"all\",\n",
    "    \"arrow functions\",\n",
    "    \"spread array\",\n",
    "    \"spread objects\",\n",
    "    \"this dot or scopes\",\n",
    "    \"string literal or template\"\n",
    "};\n",
    "\n",
    "foreach(var knowledgeTopic in myKnowledgeOfJavascript)\n",
    "{\n",
    "    Console.WriteLine($\"I will share with you a little about {knowledgeTopic}\");\n",
    "}"
   ]
  },
  {
   "cell_type": "code",
   "execution_count": null,
   "metadata": {
    "dotnet_interactive": {
     "language": "javascript"
    }
   },
   "outputs": [],
   "source": [
    "let myKnowledgeOfJavascript = [ \n",
    "    'ecmascript spec',\n",
    "    'let',\n",
    "    'const',\n",
    "    'Arrays',\n",
    "    'let of',\n",
    "    'map',\n",
    "    'filter',\n",
    "    'some',\n",
    "    'all',\n",
    "    'arrow functions',\n",
    "    'spread array',\n",
    "    'spread objects',\n",
    "    'this dot or scopes',\n",
    "    'string literal or template'\n",
    "];\n",
    "\n",
    "for (let knowledgeTopic of myKnowledgeOfJavascript){\n",
    "    console.log(`I will share with you a little about ${knowledgeTopic}`);\n",
    "}"
   ]
  },
  {
   "cell_type": "markdown",
   "metadata": {},
   "source": [
    "## From the Top\n",
    "\n",
    "What's the nearest thing in Javascript to C# Assemblies, Namespaces, Classes, and Methods?"
   ]
  },
  {
   "cell_type": "code",
   "execution_count": null,
   "metadata": {
    "dotnet_interactive": {
     "language": "csharp"
    }
   },
   "outputs": [],
   "source": [
    "Global Scope"
   ]
  },
  {
   "cell_type": "markdown",
   "metadata": {},
   "source": [
    "## Variables\n",
    "\n",
    "`var`, `let`, `const`; what is the difference?\n",
    "\n",
    "Most of the time, you'll use `const` because it's a constant that wont change. Using `const` helps linters keep you from a life of wonton debuggery. A linter? It's a shaming mechanism built into IDEs to remind you of poor coding habits.\n",
    "\n",
    "\n",
    "var declarations are at the function or global scope and can cause a pre-declared variable of the same name to have its value modified."
   ]
  },
  {
   "cell_type": "code",
   "execution_count": null,
   "metadata": {
    "dotnet_interactive": {
     "language": "javascript"
    }
   },
   "outputs": [
    {
     "data": {
      "text/html": [
       "<script type=\"text/javascript\">\n",
       "if (typeof window.createDotnetInteractiveClient === typeof Function) {\n",
       "    window.createDotnetInteractiveClient('http://localhost:56420/').then(async function (interactive) {\n",
       "        const console = interactive.getConsole('421');\n",
       "        const notebookScope = getDotnetInteractiveScope('http://localhost:56420/');\n",
       "        try {\n",
       "\n",
       "await Object.getPrototypeOf(async function() {}).constructor(\n",
       "    \"interactive\",\n",
       "    \"console\",\n",
       "    \"notebookScope\",\n",
       "    \"var hoistingHappens = \\u0027its hard out here for a variable\\u0027\\nvar youDontKnow = \\u0027NowYouKnow\\u0027\\nif (youDontKnow) {\\n    var hoistingHappens = \\u0027it\\\\\\u0027s not a lie. it\\\\\\u0027s dissimulation.\\u0027\\n}\\n\\nconsole.log(hoistingHappens)\\n\"\n",
       ")(\n",
       "    interactive,\n",
       "    console,\n",
       "    notebookScope\n",
       ");\n",
       "\n",
       "        } catch (err) {\n",
       "            interactive.failCommand(err, '421');\n",
       "        } finally {\n",
       "            await interactive.waitForAllEventsToPublish('421');\n",
       "            await interactive.markExecutionComplete('421');\n",
       "        }\n",
       "    });\n",
       "}\n",
       "</script>"
      ]
     },
     "output_type": "unknown"
    },
    {
     "data": {
      "text/plain": [
       "it's not a lie. it's dissimulation."
      ]
     },
     "output_type": "unknown"
    }
   ],
   "source": [
    "var hoistingHappens = 'its hard out here for a variable'\n",
    "var youDontKnow = 'NowYouKnow'\n",
    "if (youDontKnow) {\n",
    "    var hoistingHappens = 'it\\'s not a lie. it\\'s dissimulation.'\n",
    "}\n",
    "\n",
    "console.log(hoistingHappens)\n"
   ]
  },
  {
   "cell_type": "markdown",
   "metadata": {},
   "source": [
    "`var` is considered passe in that it will work, but you could do better... like declaring variables with `let` - the distinction being that let defines the variable at the closest scope Or, the closest set of curlies."
   ]
  },
  {
   "cell_type": "code",
   "execution_count": null,
   "metadata": {
    "dotnet_interactive": {
     "language": "javascript"
    }
   },
   "outputs": [
    {
     "data": {
      "text/html": [
       "<script type=\"text/javascript\">\n",
       "if (typeof window.createDotnetInteractiveClient === typeof Function) {\n",
       "    window.createDotnetInteractiveClient('http://localhost:56420/').then(async function (interactive) {\n",
       "        const console = interactive.getConsole('464');\n",
       "        const notebookScope = getDotnetInteractiveScope('http://localhost:56420/');\n",
       "        try {\n",
       "\n",
       "await Object.getPrototypeOf(async function() {}).constructor(\n",
       "    \"interactive\",\n",
       "    \"console\",\n",
       "    \"notebookScope\",\n",
       "    \"let existsBetwixtCurlies = \\u0027I\\\\\\u0027m The cream of the crop.\\u0027\\n\\nlet useConst = \\u0027by default\\u0027\\n\\nif(useConst){\\n    let existsBetwixtCurlies = \\u0027use const by default\\u0027;\\n}\\n\\nfunction myCurliesAreAScope() {\\n    let existsBetwixtCurlies = \\u0027I don\\\\\\u0027t rise to the top.\\u0027\\n}\\n\\nconsole.log(existsBetwixtCurlies)\\n\"\n",
       ")(\n",
       "    interactive,\n",
       "    console,\n",
       "    notebookScope\n",
       ");\n",
       "\n",
       "        } catch (err) {\n",
       "            interactive.failCommand(err, '464');\n",
       "        } finally {\n",
       "            await interactive.waitForAllEventsToPublish('464');\n",
       "            await interactive.markExecutionComplete('464');\n",
       "        }\n",
       "    });\n",
       "}\n",
       "</script>"
      ]
     },
     "output_type": "unknown"
    },
    {
     "data": {
      "text/plain": [
       "I'm The cream of the crop."
      ]
     },
     "output_type": "unknown"
    }
   ],
   "source": [
    "\n",
    "let existsBetwixtCurlies = 'I\\'m the cream of the crop.'\n",
    "\n",
    "let useConst = 'by default'\n",
    "\n",
    "if(useConst){\n",
    "    let existsBetwixtCurlies = 'use const by default';\n",
    "}\n",
    "\n",
    "function myCurliesAreAScope() {\n",
    "    let existsBetwixtCurlies = 'I don\\'t rise to the top.'\n",
    "}\n",
    "\n",
    "console.log(existsBetwixtCurlies)\n"
   ]
  },
  {
   "cell_type": "markdown",
   "metadata": {},
   "source": []
  },
  {
   "cell_type": "markdown",
   "metadata": {},
   "source": [
    "And of course, you can just assign a variable like this, becuase who cares about typesafety. Yeee Haw!!!"
   ]
  },
  {
   "cell_type": "code",
   "execution_count": null,
   "metadata": {
    "dotnet_interactive": {
     "language": "javascript"
    }
   },
   "outputs": [
    {
     "data": {
      "text/html": [
       "<script type=\"text/javascript\">\n",
       "if (typeof window.createDotnetInteractiveClient === typeof Function) {\n",
       "    window.createDotnetInteractiveClient('http://localhost:56420/').then(async function (interactive) {\n",
       "        const console = interactive.getConsole('103');\n",
       "        const notebookScope = getDotnetInteractiveScope('http://localhost:56420/');\n",
       "        try {\n",
       "\n",
       "await Object.getPrototypeOf(async function() {}).constructor(\n",
       "    \"interactive\",\n",
       "    \"console\",\n",
       "    \"notebookScope\",\n",
       "    \"a = \\u0027ehhh\\u0027\\n\\nconsole.log(a)\"\n",
       ")(\n",
       "    interactive,\n",
       "    console,\n",
       "    notebookScope\n",
       ");\n",
       "\n",
       "        } catch (err) {\n",
       "            interactive.failCommand(err, '103');\n",
       "        } finally {\n",
       "            await interactive.waitForAllEventsToPublish('103');\n",
       "            await interactive.markExecutionComplete('103');\n",
       "        }\n",
       "    });\n",
       "}\n",
       "</script>"
      ]
     },
     "output_type": "unknown"
    },
    {
     "data": {
      "text/plain": [
       "ehhh"
      ]
     },
     "output_type": "unknown"
    }
   ],
   "source": [
    "a = 'ehhh'\n",
    "\n",
    "console.log(a)"
   ]
  },
  {
   "cell_type": "markdown",
   "metadata": {},
   "source": [
    "## Collections, or 'How do I do my Linq thing in javascript?' "
   ]
  },
  {
   "cell_type": "code",
   "execution_count": null,
   "metadata": {
    "dotnet_interactive": {
     "language": "javascript"
    }
   },
   "outputs": [],
   "source": []
  },
  {
   "cell_type": "markdown",
   "metadata": {},
   "source": [
    "## Springs of Knowledge\n",
    "\n",
    "Mozilla\n",
    "\n",
    "https://developer.mozilla.org/en-US/docs/Web/JavaScript\n",
    "\n",
    "ECMA\n",
    "\n",
    "https://tc39.es/ecma262/\n",
    "\n"
   ]
  }
 ],
 "metadata": {
  "kernelspec": {
   "display_name": ".NET (C#)",
   "language": "C#",
   "name": ".net-csharp"
  },
  "language_info": {
   "file_extension": ".cs",
   "mimetype": "text/x-csharp",
   "name": "C#",
   "pygments_lexer": "csharp",
   "version": "9.0"
  },
  "orig_nbformat": 4
 },
 "nbformat": 4,
 "nbformat_minor": 2
}